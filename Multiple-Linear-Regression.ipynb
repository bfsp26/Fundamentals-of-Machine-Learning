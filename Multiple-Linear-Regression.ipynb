{
 "cells": [
  {
   "cell_type": "markdown",
   "metadata": {
    "collapsed": true,
    "pycharm": {
     "name": "#%% md\n"
    }
   },
   "source": [
    "# **Multiple Linear Regression**"
   ],
   "execution_count": 1
  },
  {
   "cell_type": "code",
   "execution_count": 3,
   "outputs": [
    {
     "data": {
      "text/plain": "                      address  bathrooms  bedrooms  finishedsqft lastsolddate  \\\n0            2243 Franklin St        2.0         2          1463     2/5/2016   \n1      2002 Pacific Ave APT 4        3.5         3          3291    1/22/2016   \n2  1945 Washington St APT 411        1.0         1           653   12/16/2015   \n3    1896 Pacific Ave APT 802        2.5         2          2272   12/17/2014   \n4  1840 Washington St APT 603        1.0         1           837    12/2/2015   \n\n   lastsoldprice   latitude   longitude     neighborhood  totalrooms  \\\n0        1950000  37.795139 -122.425309  Pacific Heights           7   \n1        4200000  37.794429 -122.428513  Pacific Heights           7   \n2         665000  37.792472 -122.425281  Pacific Heights           3   \n3        2735000  37.794706 -122.426347  Pacific Heights           6   \n4        1050000  37.793212 -122.423744  Pacific Heights           3   \n\n       usecode  yearbuilt  zipcode  \n0  Condominium       1900    94109  \n1  Condominium       1961    94109  \n2  Condominium       1987    94109  \n3  Condominium       1924    94109  \n4  Condominium       2012    94109  ",
      "text/html": "<div>\n<style scoped>\n    .dataframe tbody tr th:only-of-type {\n        vertical-align: middle;\n    }\n\n    .dataframe tbody tr th {\n        vertical-align: top;\n    }\n\n    .dataframe thead th {\n        text-align: right;\n    }\n</style>\n<table border=\"1\" class=\"dataframe\">\n  <thead>\n    <tr style=\"text-align: right;\">\n      <th></th>\n      <th>address</th>\n      <th>bathrooms</th>\n      <th>bedrooms</th>\n      <th>finishedsqft</th>\n      <th>lastsolddate</th>\n      <th>lastsoldprice</th>\n      <th>latitude</th>\n      <th>longitude</th>\n      <th>neighborhood</th>\n      <th>totalrooms</th>\n      <th>usecode</th>\n      <th>yearbuilt</th>\n      <th>zipcode</th>\n    </tr>\n  </thead>\n  <tbody>\n    <tr>\n      <th>0</th>\n      <td>2243 Franklin St</td>\n      <td>2.0</td>\n      <td>2</td>\n      <td>1463</td>\n      <td>2/5/2016</td>\n      <td>1950000</td>\n      <td>37.795139</td>\n      <td>-122.425309</td>\n      <td>Pacific Heights</td>\n      <td>7</td>\n      <td>Condominium</td>\n      <td>1900</td>\n      <td>94109</td>\n    </tr>\n    <tr>\n      <th>1</th>\n      <td>2002 Pacific Ave APT 4</td>\n      <td>3.5</td>\n      <td>3</td>\n      <td>3291</td>\n      <td>1/22/2016</td>\n      <td>4200000</td>\n      <td>37.794429</td>\n      <td>-122.428513</td>\n      <td>Pacific Heights</td>\n      <td>7</td>\n      <td>Condominium</td>\n      <td>1961</td>\n      <td>94109</td>\n    </tr>\n    <tr>\n      <th>2</th>\n      <td>1945 Washington St APT 411</td>\n      <td>1.0</td>\n      <td>1</td>\n      <td>653</td>\n      <td>12/16/2015</td>\n      <td>665000</td>\n      <td>37.792472</td>\n      <td>-122.425281</td>\n      <td>Pacific Heights</td>\n      <td>3</td>\n      <td>Condominium</td>\n      <td>1987</td>\n      <td>94109</td>\n    </tr>\n    <tr>\n      <th>3</th>\n      <td>1896 Pacific Ave APT 802</td>\n      <td>2.5</td>\n      <td>2</td>\n      <td>2272</td>\n      <td>12/17/2014</td>\n      <td>2735000</td>\n      <td>37.794706</td>\n      <td>-122.426347</td>\n      <td>Pacific Heights</td>\n      <td>6</td>\n      <td>Condominium</td>\n      <td>1924</td>\n      <td>94109</td>\n    </tr>\n    <tr>\n      <th>4</th>\n      <td>1840 Washington St APT 603</td>\n      <td>1.0</td>\n      <td>1</td>\n      <td>837</td>\n      <td>12/2/2015</td>\n      <td>1050000</td>\n      <td>37.793212</td>\n      <td>-122.423744</td>\n      <td>Pacific Heights</td>\n      <td>3</td>\n      <td>Condominium</td>\n      <td>2012</td>\n      <td>94109</td>\n    </tr>\n  </tbody>\n</table>\n</div>"
     },
     "execution_count": 3,
     "metadata": {},
     "output_type": "execute_result"
    }
   ],
   "source": [
    "import  pandas as pd\n",
    "\n",
    "url = 'https://raw.githubusercontent.com/jeffprosise/Machine-Learning/master/Data/pacific-heights.csv'\n",
    "df = pd.read_csv(url)\n",
    "df.head()"
   ],
   "metadata": {
    "collapsed": false,
    "pycharm": {
     "name": "#%%\n"
    }
   }
  },
  {
   "cell_type": "code",
   "execution_count": 4,
   "outputs": [
    {
     "data": {
      "text/plain": "(439, 13)"
     },
     "execution_count": 4,
     "metadata": {},
     "output_type": "execute_result"
    }
   ],
   "source": [
    "df.shape"
   ],
   "metadata": {
    "collapsed": false,
    "pycharm": {
     "name": "#%%\n"
    }
   }
  },
  {
   "cell_type": "code",
   "execution_count": 5,
   "outputs": [
    {
     "data": {
      "text/plain": "lastsoldprice    1.000000\nfinishedsqft     0.840864\nbathrooms        0.768179\ntotalrooms       0.670726\nbedrooms         0.606579\nzipcode          0.296032\nlatitude         0.126480\nyearbuilt       -0.214365\nlongitude       -0.309462\nName: lastsoldprice, dtype: float64"
     },
     "execution_count": 5,
     "metadata": {},
     "output_type": "execute_result"
    }
   ],
   "source": [
    "corr_matrix = df.corr()\n",
    "corr_matrix['lastsoldprice'].sort_values(ascending=False)"
   ],
   "metadata": {
    "collapsed": false,
    "pycharm": {
     "name": "#%%\n"
    }
   }
  },
  {
   "cell_type": "code",
   "execution_count": 6,
   "outputs": [
    {
     "data": {
      "text/plain": "                      address  bathrooms  bedrooms  finishedsqft lastsolddate  \\\n0            2243 Franklin St        2.0         2          1463     2/5/2016   \n1      2002 Pacific Ave APT 4        3.5         3          3291    1/22/2016   \n2  1945 Washington St APT 411        1.0         1           653   12/16/2015   \n3    1896 Pacific Ave APT 802        2.5         2          2272   12/17/2014   \n4  1840 Washington St APT 603        1.0         1           837    12/2/2015   \n\n   lastsoldprice   latitude   longitude     neighborhood  totalrooms  \\\n0        1950000  37.795139 -122.425309  Pacific Heights           7   \n1        4200000  37.794429 -122.428513  Pacific Heights           7   \n2         665000  37.792472 -122.425281  Pacific Heights           3   \n3        2735000  37.794706 -122.426347  Pacific Heights           6   \n4        1050000  37.793212 -122.423744  Pacific Heights           3   \n\n   yearbuilt  zipcode  usecode_Condominium  usecode_Cooperative  \\\n0       1900    94109                    1                    0   \n1       1961    94109                    1                    0   \n2       1987    94109                    1                    0   \n3       1924    94109                    1                    0   \n4       2012    94109                    1                    0   \n\n   usecode_Duplex  usecode_MultiFamily2To4  usecode_SingleFamily  \\\n0               0                        0                     0   \n1               0                        0                     0   \n2               0                        0                     0   \n3               0                        0                     0   \n4               0                        0                     0   \n\n   usecode_Townhouse  \n0                  0  \n1                  0  \n2                  0  \n3                  0  \n4                  0  ",
      "text/html": "<div>\n<style scoped>\n    .dataframe tbody tr th:only-of-type {\n        vertical-align: middle;\n    }\n\n    .dataframe tbody tr th {\n        vertical-align: top;\n    }\n\n    .dataframe thead th {\n        text-align: right;\n    }\n</style>\n<table border=\"1\" class=\"dataframe\">\n  <thead>\n    <tr style=\"text-align: right;\">\n      <th></th>\n      <th>address</th>\n      <th>bathrooms</th>\n      <th>bedrooms</th>\n      <th>finishedsqft</th>\n      <th>lastsolddate</th>\n      <th>lastsoldprice</th>\n      <th>latitude</th>\n      <th>longitude</th>\n      <th>neighborhood</th>\n      <th>totalrooms</th>\n      <th>yearbuilt</th>\n      <th>zipcode</th>\n      <th>usecode_Condominium</th>\n      <th>usecode_Cooperative</th>\n      <th>usecode_Duplex</th>\n      <th>usecode_MultiFamily2To4</th>\n      <th>usecode_SingleFamily</th>\n      <th>usecode_Townhouse</th>\n    </tr>\n  </thead>\n  <tbody>\n    <tr>\n      <th>0</th>\n      <td>2243 Franklin St</td>\n      <td>2.0</td>\n      <td>2</td>\n      <td>1463</td>\n      <td>2/5/2016</td>\n      <td>1950000</td>\n      <td>37.795139</td>\n      <td>-122.425309</td>\n      <td>Pacific Heights</td>\n      <td>7</td>\n      <td>1900</td>\n      <td>94109</td>\n      <td>1</td>\n      <td>0</td>\n      <td>0</td>\n      <td>0</td>\n      <td>0</td>\n      <td>0</td>\n    </tr>\n    <tr>\n      <th>1</th>\n      <td>2002 Pacific Ave APT 4</td>\n      <td>3.5</td>\n      <td>3</td>\n      <td>3291</td>\n      <td>1/22/2016</td>\n      <td>4200000</td>\n      <td>37.794429</td>\n      <td>-122.428513</td>\n      <td>Pacific Heights</td>\n      <td>7</td>\n      <td>1961</td>\n      <td>94109</td>\n      <td>1</td>\n      <td>0</td>\n      <td>0</td>\n      <td>0</td>\n      <td>0</td>\n      <td>0</td>\n    </tr>\n    <tr>\n      <th>2</th>\n      <td>1945 Washington St APT 411</td>\n      <td>1.0</td>\n      <td>1</td>\n      <td>653</td>\n      <td>12/16/2015</td>\n      <td>665000</td>\n      <td>37.792472</td>\n      <td>-122.425281</td>\n      <td>Pacific Heights</td>\n      <td>3</td>\n      <td>1987</td>\n      <td>94109</td>\n      <td>1</td>\n      <td>0</td>\n      <td>0</td>\n      <td>0</td>\n      <td>0</td>\n      <td>0</td>\n    </tr>\n    <tr>\n      <th>3</th>\n      <td>1896 Pacific Ave APT 802</td>\n      <td>2.5</td>\n      <td>2</td>\n      <td>2272</td>\n      <td>12/17/2014</td>\n      <td>2735000</td>\n      <td>37.794706</td>\n      <td>-122.426347</td>\n      <td>Pacific Heights</td>\n      <td>6</td>\n      <td>1924</td>\n      <td>94109</td>\n      <td>1</td>\n      <td>0</td>\n      <td>0</td>\n      <td>0</td>\n      <td>0</td>\n      <td>0</td>\n    </tr>\n    <tr>\n      <th>4</th>\n      <td>1840 Washington St APT 603</td>\n      <td>1.0</td>\n      <td>1</td>\n      <td>837</td>\n      <td>12/2/2015</td>\n      <td>1050000</td>\n      <td>37.793212</td>\n      <td>-122.423744</td>\n      <td>Pacific Heights</td>\n      <td>3</td>\n      <td>2012</td>\n      <td>94109</td>\n      <td>1</td>\n      <td>0</td>\n      <td>0</td>\n      <td>0</td>\n      <td>0</td>\n      <td>0</td>\n    </tr>\n  </tbody>\n</table>\n</div>"
     },
     "execution_count": 6,
     "metadata": {},
     "output_type": "execute_result"
    }
   ],
   "source": [
    "df = pd.get_dummies(df, columns=['usecode'])\n",
    "df.head()"
   ],
   "metadata": {
    "collapsed": false,
    "pycharm": {
     "name": "#%%\n"
    }
   }
  },
  {
   "cell_type": "code",
   "execution_count": 7,
   "outputs": [
    {
     "data": {
      "text/plain": "lastsoldprice              1.000000\nfinishedsqft               0.840864\nbathrooms                  0.768179\ntotalrooms                 0.670726\nusecode_SingleFamily       0.638482\nbedrooms                   0.606579\nzipcode                    0.296032\nlatitude                   0.126480\nusecode_Duplex             0.006292\nusecode_MultiFamily2To4   -0.019009\nusecode_Townhouse         -0.025467\nusecode_Cooperative       -0.025556\nyearbuilt                 -0.214365\nlongitude                 -0.309462\nusecode_Condominium       -0.598575\nName: lastsoldprice, dtype: float64"
     },
     "execution_count": 7,
     "metadata": {},
     "output_type": "execute_result"
    }
   ],
   "source": [
    "corr_matrix = df.corr()\n",
    "corr_matrix['lastsoldprice'].sort_values(ascending=False)"
   ],
   "metadata": {
    "collapsed": false,
    "pycharm": {
     "name": "#%%\n"
    }
   }
  },
  {
   "cell_type": "code",
   "execution_count": 8,
   "outputs": [
    {
     "data": {
      "text/plain": "   bathrooms  bedrooms  finishedsqft  totalrooms  usecode_Condominium  \\\n0        2.0         2          1463           7                    1   \n1        3.5         3          3291           7                    1   \n2        1.0         1           653           3                    1   \n3        2.5         2          2272           6                    1   \n4        1.0         1           837           3                    1   \n\n   usecode_SingleFamily  lastsoldprice  \n0                     0        1950000  \n1                     0        4200000  \n2                     0         665000  \n3                     0        2735000  \n4                     0        1050000  ",
      "text/html": "<div>\n<style scoped>\n    .dataframe tbody tr th:only-of-type {\n        vertical-align: middle;\n    }\n\n    .dataframe tbody tr th {\n        vertical-align: top;\n    }\n\n    .dataframe thead th {\n        text-align: right;\n    }\n</style>\n<table border=\"1\" class=\"dataframe\">\n  <thead>\n    <tr style=\"text-align: right;\">\n      <th></th>\n      <th>bathrooms</th>\n      <th>bedrooms</th>\n      <th>finishedsqft</th>\n      <th>totalrooms</th>\n      <th>usecode_Condominium</th>\n      <th>usecode_SingleFamily</th>\n      <th>lastsoldprice</th>\n    </tr>\n  </thead>\n  <tbody>\n    <tr>\n      <th>0</th>\n      <td>2.0</td>\n      <td>2</td>\n      <td>1463</td>\n      <td>7</td>\n      <td>1</td>\n      <td>0</td>\n      <td>1950000</td>\n    </tr>\n    <tr>\n      <th>1</th>\n      <td>3.5</td>\n      <td>3</td>\n      <td>3291</td>\n      <td>7</td>\n      <td>1</td>\n      <td>0</td>\n      <td>4200000</td>\n    </tr>\n    <tr>\n      <th>2</th>\n      <td>1.0</td>\n      <td>1</td>\n      <td>653</td>\n      <td>3</td>\n      <td>1</td>\n      <td>0</td>\n      <td>665000</td>\n    </tr>\n    <tr>\n      <th>3</th>\n      <td>2.5</td>\n      <td>2</td>\n      <td>2272</td>\n      <td>6</td>\n      <td>1</td>\n      <td>0</td>\n      <td>2735000</td>\n    </tr>\n    <tr>\n      <th>4</th>\n      <td>1.0</td>\n      <td>1</td>\n      <td>837</td>\n      <td>3</td>\n      <td>1</td>\n      <td>0</td>\n      <td>1050000</td>\n    </tr>\n  </tbody>\n</table>\n</div>"
     },
     "execution_count": 8,
     "metadata": {},
     "output_type": "execute_result"
    }
   ],
   "source": [
    "# Filter the dataset down to the most significance columns\n",
    "df = df[['bathrooms', 'bedrooms', 'finishedsqft', 'totalrooms', 'usecode_Condominium', 'usecode_SingleFamily', 'lastsoldprice']]\n",
    "df.head()"
   ],
   "metadata": {
    "collapsed": false,
    "pycharm": {
     "name": "#%%\n"
    }
   }
  },
  {
   "cell_type": "code",
   "execution_count": 9,
   "outputs": [
    {
     "data": {
      "text/plain": "lastsoldprice           1.000000\nfinishedsqft            0.840864\nbathrooms               0.768179\ntotalrooms              0.670726\nusecode_SingleFamily    0.638482\nbedrooms                0.606579\nusecode_Condominium    -0.598575\nName: lastsoldprice, dtype: float64"
     },
     "execution_count": 9,
     "metadata": {},
     "output_type": "execute_result"
    }
   ],
   "source": [
    "corr_matrix = df.corr()\n",
    "corr_matrix['lastsoldprice'].sort_values(ascending=False)"
   ],
   "metadata": {
    "collapsed": false,
    "pycharm": {
     "name": "#%%\n"
    }
   }
  },
  {
   "cell_type": "code",
   "execution_count": 10,
   "outputs": [
    {
     "data": {
      "text/plain": "<Figure size 432x288 with 1 Axes>",
      "image/png": "[encoded data removed]"
     },
     "metadata": {
      "needs_background": "light"
     },
     "output_type": "display_data"
    }
   ],
   "source": [
    "%matplotlib inline\n",
    "\n",
    "df.plot(kind='scatter', x='finishedsqft', y='lastsoldprice', alpha=0.5);"
   ],
   "metadata": {
    "collapsed": false,
    "pycharm": {
     "name": "#%%\n"
    }
   }
  },
  {
   "cell_type": "code",
   "execution_count": 11,
   "outputs": [
    {
     "data": {
      "text/plain": "LinearRegression()"
     },
     "execution_count": 11,
     "metadata": {},
     "output_type": "execute_result"
    }
   ],
   "source": [
    "from sklearn.linear_model import LinearRegression\n",
    "from sklearn.model_selection import train_test_split\n",
    "\n",
    "X = df.drop('lastsoldprice', axis=1)\n",
    "y = df['lastsoldprice']\n",
    "X_train, X_test, y_train, y_test = train_test_split(X, y, test_size=0.2, random_state=1234)\n",
    "\n",
    "LR = LinearRegression()\n",
    "LR.fit(X_train, y_train)"
   ],
   "metadata": {
    "collapsed": false,
    "pycharm": {
     "name": "#%%\n"
    }
   }
  },
  {
   "cell_type": "code",
   "execution_count": 12,
   "outputs": [
    {
     "data": {
      "text/plain": "0.5519315054785503"
     },
     "execution_count": 12,
     "metadata": {},
     "output_type": "execute_result"
    }
   ],
   "source": [
    "# Compute the model's R2 score\n",
    "LR.score(X_test, y_test)"
   ],
   "metadata": {
    "collapsed": false,
    "pycharm": {
     "name": "#%%\n"
    }
   }
  },
  {
   "cell_type": "code",
   "execution_count": 13,
   "outputs": [
    {
     "data": {
      "text/plain": "array([0.66491085, 0.69719329, 0.68235048, 0.6180378 , 0.76483264])"
     },
     "execution_count": 13,
     "metadata": {},
     "output_type": "execute_result"
    }
   ],
   "source": [
    "# Compute R2 scores across five folds\n",
    "from sklearn.model_selection import cross_val_score\n",
    "\n",
    "cross_val_score(LR, X, y, cv=5)"
   ],
   "metadata": {
    "collapsed": false,
    "pycharm": {
     "name": "#%%\n"
    }
   }
  },
  {
   "cell_type": "code",
   "execution_count": 14,
   "outputs": [
    {
     "data": {
      "text/plain": "0.685465012522061"
     },
     "execution_count": 14,
     "metadata": {},
     "output_type": "execute_result"
    }
   ],
   "source": [
    "# Compute the mean R2 score across five folds\n",
    "cross_val_score(LR, X, y, cv=5).mean()"
   ],
   "metadata": {
    "collapsed": false,
    "pycharm": {
     "name": "#%%\n"
    }
   }
  }
 ],
 "metadata": {
  "kernelspec": {
   "display_name": "Python 3",
   "language": "python",
   "name": "python3"
  },
  "language_info": {
   "codemirror_mode": {
    "name": "ipython",
    "version": 2
   },
   "file_extension": ".py",
   "mimetype": "text/x-python",
   "name": "python",
   "nbconvert_exporter": "python",
   "pygments_lexer": "ipython2",
   "version": "2.7.6"
  }
 },
 "nbformat": 4,
 "nbformat_minor": 0
}